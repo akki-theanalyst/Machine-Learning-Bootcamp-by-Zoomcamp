{
 "cells": [
  {
   "cell_type": "markdown",
   "id": "9449cd56-f7ef-44c7-bed1-49d5cf48d285",
   "metadata": {},
   "source": [
    "# Week 1 Lecture Notes."
   ]
  },
  {
   "cell_type": "markdown",
   "id": "f74cdb6c-cb74-4d5c-8cb2-a43191658838",
   "metadata": {},
   "source": [
    "### 1.1 Introduction to Machine Learning\n",
    "\n",
    "1. Example: recommending a price for a car, given its properties such as: age, mileage, model, no. of doors, etc.\n",
    "2. Pattern can be found in the data which can be modelled.\n",
    "3. Essence of ML: given data, have a model learn pattern in the data.\n",
    "4. Data consists of:\n",
    "    a. Features: what we knoe about car (i.e its properties)\n",
    "    b. Target: What we want to predict (i.e. its price)\n",
    "\n",
    "5. User can provide information on a car they want to sell. This data is extracted.\n",
    "6. Price(target) is predicted and suggested to the user as an appropriate price.   "
   ]
  },
  {
   "cell_type": "markdown",
   "id": "f409cb63-3a17-4732-bb4e-f22c6c62fff7",
   "metadata": {},
   "source": [
    "### 1.2 ML vs Rule-Based Systems\n",
    "\n",
    "This lesson cover a details comparison between rule-based and ML systems. For example -: \n",
    "a. An email spam detection system\n",
    "\n",
    "We want to develop a spam detection system using a classifier.\n",
    "\n",
    "1. Rule-based approach\n",
    "\n",
    "Take all the spam email messages and try to identify what makes a message spam. We could come up with explicit rules based on the sender, subject, etc.\n",
    "However spam messages evolve and require frequent update, leading inevitably large number of rule and logic which will be nightmare to maintain.\n",
    "\n",
    "2. Machine Learning Approach\n",
    "\n",
    "We get the data, defines and calculate features, train and use the model. \n",
    "\n",
    "a. Getting the data: we could have a spam button which users can press to indicate an e-mail is spam\n",
    "\n",
    "b. Defining features: we could start off with some rules, e.g. length of subject greater than 10, length of body greater than 10, sender has a certain domain, sender e-mail address has a certain pattern, and so on. These are just some examples of features, there can be more/different ones. Then for a given e-mail, we can put its data in a vector:[1,1,0,1,0,1], This would indicate then the length of the subject is greater than 10, length of body is greater than 10, etc. Say that the user designated this e-mail as spam, then the target variable is also 1. We do this for many e-mails and get a matrix with the features and a vector with target variables.\n",
    "\n",
    "c. Train model: features and target variables go into ML model. We fit/train the model and determine some unknown coefficients that minimize the error between predictions and the target.\n",
    "\n",
    "d. Use model: now that the model has been trained, we can put new data into it and predict the target.\n"
   ]
  },
  {
   "cell_type": "markdown",
   "id": "552d7301-b85e-4a48-af9f-59b868ddf27b",
   "metadata": {},
   "source": [
    "# 1.3 Supervised Machine Learning."
   ]
  },
  {
   "cell_type": "markdown",
   "id": "30f065ba-ad1f-4723-b1e3-c3501afd1512",
   "metadata": {},
   "source": [
    "In supervised Machine learning we trained a model for given output data.\n",
    "We provided the data and the target variable and the ML model learn the pattern in the data. These pattern can be used to generlize to new samples. In spam email example we did the same.\n",
    "\n",
    "The feature matrix is a two dimensional array in which each rows are our observation or sample and columns are features.It is designated with **X**. The target is a vector designated with **y**.**X** is our input and **y** is our output.\n",
    "\n",
    "             g(X) = y"
   ]
  },
  {
   "cell_type": "markdown",
   "id": "7fbf561e-e8e4-4e44-a8bd-6fbff76c2b6a",
   "metadata": {},
   "source": [
    "# 1.4 CRISP-DM\n",
    "\n",
    "CRISP-DM is a methodology for organizing ML projects. It stands for Cross-Industry Standard Processing Data Mining. There are 6 steps.\n",
    "\n",
    "          [Data Understanding] --> [Data preparation] --> [Modeling]\n",
    "\n",
    "           [Businness Understanding]<-- [Deployment]<-- [Evaluation] <--\n",
    "                                            \n",
    "\n",
    "ML Project: understand the problem, collect the data, train the model, use it.\n",
    "\n",
    "We will use the spam detection example.\n",
    "\n",
    "E-mail → Model → spam / not spam\n",
    "\n",
    "### Step 1: Bussiness Understanding\n",
    "\n",
    "Goal is to identify the problem to solve. Understand if problem is important and how to measure success. Here we decide whether we need ML.\n",
    "\n",
    "Spam detection: users complain about spam. What is the extent of the problem? One users or many? Do we need ML? Define the goal: e.g. reduce amount of spam messages, reduce amount of complaints about spam. Goal should be measurable: reduce amount of spam messages by 50%.\n",
    "\n",
    "### Step 2: Data Understanding.\n",
    "\n",
    "Make sure data is available, or what is missing, and how to collect/acquire it.\n",
    "\n",
    "Spam detection: spam button. Is the data behind this button good enough? Is it reliable? Do we track it correctly? Is the dataset large enough? Do we need to get more data?\n",
    "\n",
    "### Step 3: Data preparation\n",
    "\n",
    "The data needs to be transformed such that it can be used in the ML model. We may need to clean the data, extract features, build pipelines, convert into tabular form.\n",
    "\n",
    "### Step 4: Modeling\n",
    "\n",
    "We now have the data in the right format. We try different models and we pick the best one. For example logistic regression, decision tree, neural network, etc. We may need to go back to data preparation to fix issues with the data or do more feature engineering if required.This is root of Machine learning so most of the time we spending on modeling.\n",
    "\n",
    "\n",
    "### step 5: Evaluation\n",
    "\n",
    "Now we will assess how well the model is performing with respect to the goal we defines under Business Understanding. Have we reached the goal? Do our metrics improve? Did we solve/measure the right thing? Was the goal achievable? Do we need to update the goal?\n",
    "\n",
    "### step 6: Deployment\n",
    "\n",
    "This step goes hand in hand with Evaluation. We deploy the model and monitor it when online. Usually we first deploy to a subset of users.\n",
    "\n",
    "This process is typically iterated over based on learnings.\n",
    "\n",
    "It is a good idea to start simple and go quickly through all the steps. Then you iterate to introduce further improvements.\n",
    "\n"
   ]
  },
  {
   "cell_type": "markdown",
   "id": "c63ad87a-070b-4f14-b8b0-025bdf763f4a",
   "metadata": {},
   "source": [
    "# 1.5 Modeling step (Model selection process)\n",
    "\n",
    "The modeling step is where we try different models and choose the best model. This is where the actual ML happens.\n",
    "\n",
    "Let's say we train in July using data **X** with output **y**and we set up model **g**\n",
    ". Then we evaluate in August and find out our model has an accuracy of 0.7. Ideally we would be able to travel to the future and get the data from then and set our model up with that data. That obviously cannot happen. Therefore we do something else. We split the data. For example we take a subset of 20% (representing August) and we 'hide' that data. We train only with the remaining 80% (July). We call the 80% the training data and the 20% the validation data.\n",
    "\n",
    "So using the training data we get a model **g** from training with **X** and **y**.\n",
    "\n",
    "The validation data also has data **Xv** and **yv**. We can use our model to make predictions: **g(Xv)** = *y'v*\n",
    "\n",
    "The difference between **y'** and **y** is our accuracy. We can do this for various models such as logistic regression, decision tree, neural network, etc. and compare accuracies.\n",
    "\n",
    "The problem with this approach is that one of the models might have gotten lucky. In statistics this is called Multiple Comparison Problem. ML models are probabilistic, so we need to guard against this.\n",
    "\n",
    "To address this, we introduce a testing dataset. For example: 60% training, 20% validation, 20% test. The test data is hidden. We do the model selection: use **X**and **y**  to get model ***g***. We validate it by using model *g*and \n",
    " to make predictions \n",
    ". We select the best model. Then at the very end, we test the model to ensure it didn't get particularly lucky. It is basically an extra round of validation with \n",
    " to make predictions \n",
    ". The accuracy of the test data should be in line with the validation data.\n"
   ]
  },
  {
   "cell_type": "markdown",
   "id": "59b020da-fad8-4d5f-b43b-a57957c910ec",
   "metadata": {},
   "source": [
    "# Introduction to Numpy"
   ]
  },
  {
   "cell_type": "markdown",
   "id": "9cb2beae-f9ce-48b8-897f-faa387fd6297",
   "metadata": {},
   "source": [
    "### first import numpy \n",
    "\n"
   ]
  },
  {
   "cell_type": "code",
   "execution_count": 1,
   "id": "536065b0-c5ab-48b9-a9b9-74604265bd47",
   "metadata": {},
   "outputs": [],
   "source": [
    "import numpy as np"
   ]
  },
  {
   "cell_type": "markdown",
   "id": "da36e193-93b3-4052-856d-0222b6150a14",
   "metadata": {},
   "source": [
    "check version"
   ]
  },
  {
   "cell_type": "code",
   "execution_count": 2,
   "id": "dfd075b0-36ec-4963-8384-7020730fca96",
   "metadata": {},
   "outputs": [
    {
     "data": {
      "text/plain": [
       "'2.2.4'"
      ]
     },
     "execution_count": 2,
     "metadata": {},
     "output_type": "execute_result"
    }
   ],
   "source": [
    "np.__version__"
   ]
  },
  {
   "cell_type": "markdown",
   "id": "98e09211-4001-4329-9097-35684509de0d",
   "metadata": {},
   "source": [
    "### Create arrays"
   ]
  },
  {
   "cell_type": "code",
   "execution_count": 6,
   "id": "9be2d7cf-36e2-4fcf-8855-ebaaacd1dd91",
   "metadata": {},
   "outputs": [
    {
     "data": {
      "text/plain": [
       "array([[0., 0., 0., 0.],\n",
       "       [0., 0., 0., 0.],\n",
       "       [0., 0., 0., 0.]])"
      ]
     },
     "execution_count": 6,
     "metadata": {},
     "output_type": "execute_result"
    }
   ],
   "source": [
    "np.zeros((3,4))"
   ]
  },
  {
   "cell_type": "code",
   "execution_count": 9,
   "id": "53ab3cd9-a2c5-4ff2-9a18-4b77ceb3b160",
   "metadata": {},
   "outputs": [
    {
     "data": {
      "text/plain": [
       "array([[1., 1., 1., 1., 1., 1., 1., 1., 1., 1.],\n",
       "       [1., 1., 1., 1., 1., 1., 1., 1., 1., 1.],\n",
       "       [1., 1., 1., 1., 1., 1., 1., 1., 1., 1.]])"
      ]
     },
     "execution_count": 9,
     "metadata": {},
     "output_type": "execute_result"
    }
   ],
   "source": [
    "np.ones((3,10))"
   ]
  },
  {
   "cell_type": "code",
   "execution_count": 12,
   "id": "aa29afc1-86c4-4af5-8302-f1726fb48ffa",
   "metadata": {},
   "outputs": [
    {
     "data": {
      "text/plain": [
       "array([0, 0, 0, 0, 0, 0, 0, 0, 0, 0])"
      ]
     },
     "execution_count": 12,
     "metadata": {},
     "output_type": "execute_result"
    }
   ],
   "source": [
    "np.full(10,0) # for specific size and specific number"
   ]
  },
  {
   "cell_type": "code",
   "execution_count": 13,
   "id": "03e9f128-7178-4297-aeff-f9c5df73ed42",
   "metadata": {},
   "outputs": [],
   "source": [
    "## Convert python list into array\n",
    "\n",
    "a = [3,4,5,7,9]\n",
    "\n",
    "arr = np.array(a)"
   ]
  },
  {
   "cell_type": "code",
   "execution_count": 14,
   "id": "9fde6537-c2f0-481f-b6a0-0d99f931a3b6",
   "metadata": {},
   "outputs": [
    {
     "data": {
      "text/plain": [
       "array([3, 4, 5, 7, 9])"
      ]
     },
     "execution_count": 14,
     "metadata": {},
     "output_type": "execute_result"
    }
   ],
   "source": [
    "arr"
   ]
  },
  {
   "cell_type": "code",
   "execution_count": 15,
   "id": "8f8d6bcc-2959-4582-b913-a84d63f22081",
   "metadata": {},
   "outputs": [
    {
     "data": {
      "text/plain": [
       "np.int64(7)"
      ]
     },
     "execution_count": 15,
     "metadata": {},
     "output_type": "execute_result"
    }
   ],
   "source": [
    "## Accessing the element in array\n",
    "\n",
    "arr[3]"
   ]
  },
  {
   "cell_type": "code",
   "execution_count": 18,
   "id": "d922adcc-50a3-463d-a7ef-27fe4321dfbe",
   "metadata": {},
   "outputs": [
    {
     "data": {
      "text/plain": [
       "array([ 3,  4,  5, 10,  9])"
      ]
     },
     "execution_count": 18,
     "metadata": {},
     "output_type": "execute_result"
    }
   ],
   "source": [
    "# modify array\n",
    "arr[3] = 10\n",
    "arr"
   ]
  },
  {
   "cell_type": "code",
   "execution_count": 19,
   "id": "5ee6e58b-6790-4eb6-97fc-d4d47979c558",
   "metadata": {},
   "outputs": [
    {
     "data": {
      "text/plain": [
       "array([0, 1, 2, 3, 4, 5, 6, 7, 8, 9])"
      ]
     },
     "execution_count": 19,
     "metadata": {},
     "output_type": "execute_result"
    }
   ],
   "source": [
    "# array based on range(0 tp 10)\n",
    "\n",
    "\n",
    "np.arange(10)"
   ]
  },
  {
   "cell_type": "code",
   "execution_count": 20,
   "id": "7a113a47-e1c2-48d5-971c-a798de751217",
   "metadata": {},
   "outputs": [
    {
     "data": {
      "text/plain": [
       "array([10, 11, 12, 13, 14, 15, 16, 17, 18, 19, 20, 21, 22, 23, 24, 25, 26,\n",
       "       27, 28, 29, 30, 31, 32, 33, 34, 35, 36, 37, 38, 39, 40, 41, 42, 43,\n",
       "       44, 45, 46, 47, 48, 49, 50, 51, 52, 53, 54, 55, 56, 57, 58, 59, 60,\n",
       "       61, 62, 63, 64, 65, 66, 67, 68, 69, 70, 71, 72, 73, 74, 75, 76, 77,\n",
       "       78, 79, 80, 81, 82, 83, 84, 85, 86, 87, 88, 89, 90, 91, 92, 93, 94,\n",
       "       95, 96, 97, 98, 99])"
      ]
     },
     "execution_count": 20,
     "metadata": {},
     "output_type": "execute_result"
    }
   ],
   "source": [
    "np.arange(10, 100)"
   ]
  },
  {
   "cell_type": "code",
   "execution_count": 21,
   "id": "426d9c3b-595e-4534-b301-f4dfcbab0c97",
   "metadata": {},
   "outputs": [
    {
     "data": {
      "text/plain": [
       "array([0. , 0.1, 0.2, 0.3, 0.4, 0.5, 0.6, 0.7, 0.8, 0.9, 1. ])"
      ]
     },
     "execution_count": 21,
     "metadata": {},
     "output_type": "execute_result"
    }
   ],
   "source": [
    "# creating array from 0 to 1 with 11 element\n",
    "\n",
    "np.linspace(0, 1, 11)"
   ]
  },
  {
   "cell_type": "code",
   "execution_count": 23,
   "id": "643aa47e-5175-40ec-9f14-6851a1ca2b1e",
   "metadata": {},
   "outputs": [
    {
     "data": {
      "text/plain": [
       "array([ 10.,  19.,  28.,  37.,  46.,  55.,  64.,  73.,  82.,  91., 100.])"
      ]
     },
     "execution_count": 23,
     "metadata": {},
     "output_type": "execute_result"
    }
   ],
   "source": [
    "np.linspace(10, 100, 11)"
   ]
  },
  {
   "cell_type": "markdown",
   "id": "7b2a4694-67e6-456b-8e16-cb4c14e7aa31",
   "metadata": {},
   "source": [
    "### Multi-dimensional array"
   ]
  },
  {
   "cell_type": "code",
   "execution_count": 24,
   "id": "0381a002-1ba5-4e0a-a5b4-431a94dbea00",
   "metadata": {},
   "outputs": [
    {
     "data": {
      "text/plain": [
       "array([[0., 0.],\n",
       "       [0., 0.],\n",
       "       [0., 0.],\n",
       "       [0., 0.],\n",
       "       [0., 0.]])"
      ]
     },
     "execution_count": 24,
     "metadata": {},
     "output_type": "execute_result"
    }
   ],
   "source": [
    "np.zeros((5, 2))"
   ]
  },
  {
   "cell_type": "code",
   "execution_count": 25,
   "id": "250db11b-d033-4b0b-9f5d-c0c868da3583",
   "metadata": {},
   "outputs": [],
   "source": [
    "# We can create multidimensional array using list of list\n",
    "\n",
    "a = [[1,2,3,2], [4,2,1,3]]\n",
    "\n",
    "arr = np.array(a)"
   ]
  },
  {
   "cell_type": "code",
   "execution_count": 26,
   "id": "f8095713-288e-4cfe-a449-7b52c812933d",
   "metadata": {},
   "outputs": [
    {
     "data": {
      "text/plain": [
       "array([[1, 2, 3, 2],\n",
       "       [4, 2, 1, 3]])"
      ]
     },
     "execution_count": 26,
     "metadata": {},
     "output_type": "execute_result"
    }
   ],
   "source": [
    "arr"
   ]
  },
  {
   "cell_type": "code",
   "execution_count": 28,
   "id": "e3e5da9f-8957-4a64-9a93-d3325afc562c",
   "metadata": {},
   "outputs": [
    {
     "data": {
      "text/plain": [
       "(2, 4)"
      ]
     },
     "execution_count": 28,
     "metadata": {},
     "output_type": "execute_result"
    }
   ],
   "source": [
    "# we want to shape of array \n",
    "\n",
    "arr.shape # gives dimension of arr means rows and column"
   ]
  },
  {
   "cell_type": "code",
   "execution_count": 32,
   "id": "233af859-6c58-44cd-bd49-0b6447b4a18e",
   "metadata": {},
   "outputs": [],
   "source": [
    "# Accesing element in multidimensional array\n",
    "\n",
    "arr[0,1] = 20"
   ]
  },
  {
   "cell_type": "code",
   "execution_count": 33,
   "id": "16e28c0b-e139-467a-a19a-187521caaedf",
   "metadata": {},
   "outputs": [
    {
     "data": {
      "text/plain": [
       "array([[ 1, 20,  3,  2],\n",
       "       [ 4,  2,  1,  3]])"
      ]
     },
     "execution_count": 33,
     "metadata": {},
     "output_type": "execute_result"
    }
   ],
   "source": [
    "arr"
   ]
  },
  {
   "cell_type": "code",
   "execution_count": 34,
   "id": "32c49da8-f147-4688-8557-605083f428c7",
   "metadata": {},
   "outputs": [
    {
     "data": {
      "text/plain": [
       "array([2, 3])"
      ]
     },
     "execution_count": 34,
     "metadata": {},
     "output_type": "execute_result"
    }
   ],
   "source": [
    "arr[:, 3]"
   ]
  },
  {
   "cell_type": "code",
   "execution_count": 35,
   "id": "5c7a03ea-c5b2-4cea-a73b-39e7d1172e97",
   "metadata": {},
   "outputs": [],
   "source": [
    "# changing the arr\n",
    "\n",
    "arr[:, 3] = [5,6]"
   ]
  },
  {
   "cell_type": "code",
   "execution_count": 36,
   "id": "4ea8e152-0b6e-498b-8d8b-a961870c6cc2",
   "metadata": {},
   "outputs": [
    {
     "data": {
      "text/plain": [
       "array([[ 1, 20,  3,  5],\n",
       "       [ 4,  2,  1,  6]])"
      ]
     },
     "execution_count": 36,
     "metadata": {},
     "output_type": "execute_result"
    }
   ],
   "source": [
    "arr"
   ]
  },
  {
   "cell_type": "code",
   "execution_count": 39,
   "id": "efab5c6e-d5df-4743-8355-34bdc4b86a81",
   "metadata": {},
   "outputs": [],
   "source": [
    "#Randomly generated array with 5 rows and 2 columns:\n",
    "\n",
    "np.random.seed(9) # seed to make result reproducible\n",
    "array = np.random.rand(5, 3)"
   ]
  },
  {
   "cell_type": "code",
   "execution_count": 40,
   "id": "51163bba-e84e-4c50-9b56-004be5fcb13f",
   "metadata": {},
   "outputs": [
    {
     "data": {
      "text/plain": [
       "array([[ 1.03741539, 50.18745921, 49.57732931],\n",
       "       [13.3829529 , 14.21110855, 21.85586756],\n",
       "       [41.85081805, 24.81011684,  8.40596512],\n",
       "       [34.54986401, 16.67763465, 87.85590855],\n",
       "       [95.09640316,  3.87483758, 69.91073914]])"
      ]
     },
     "execution_count": 40,
     "metadata": {},
     "output_type": "execute_result"
    }
   ],
   "source": [
    "# we perform all the mathematical operation on array\n",
    "\n",
    "100 * array "
   ]
  },
  {
   "cell_type": "code",
   "execution_count": 45,
   "id": "5bb3516e-09f4-40ba-8e93-fdf0e487d767",
   "metadata": {},
   "outputs": [
    {
     "data": {
      "text/plain": [
       "array([[-0.5961597 , -0.0191305 ,  1.17500122],\n",
       "       [-0.74787095,  0.00902525, -0.87810789],\n",
       "       [-0.15643417,  0.25657045, -0.98877905],\n",
       "       [-0.33882197, -0.23618403, -0.63765501],\n",
       "       [-1.18761229, -1.42121723, -0.1534952 ]])"
      ]
     },
     "execution_count": 45,
     "metadata": {},
     "output_type": "execute_result"
    }
   ],
   "source": [
    "# Now from standard normal distribution\n",
    "np.random.randn(5, 3)"
   ]
  },
  {
   "cell_type": "code",
   "execution_count": 48,
   "id": "ef83fdd1-4d06-4d5b-b340-257bc42e6016",
   "metadata": {},
   "outputs": [
    {
     "data": {
      "text/plain": [
       "array([2, 0])"
      ]
     },
     "execution_count": 48,
     "metadata": {},
     "output_type": "execute_result"
    }
   ],
   "source": [
    "np.random.randint((5, 3))"
   ]
  },
  {
   "cell_type": "markdown",
   "id": "0b089543-8ca8-49c9-a2ca-3dbede57735d",
   "metadata": {},
   "source": [
    "### Element wise operation\n"
   ]
  },
  {
   "cell_type": "code",
   "execution_count": 49,
   "id": "9bcafbdc-3e6a-4607-a231-e603025f5142",
   "metadata": {},
   "outputs": [],
   "source": [
    "a = np.arange(5)"
   ]
  },
  {
   "cell_type": "code",
   "execution_count": 50,
   "id": "2112a622-2bbe-478c-856a-33b400c03e56",
   "metadata": {},
   "outputs": [
    {
     "data": {
      "text/plain": [
       "array([0, 1, 2, 3, 4])"
      ]
     },
     "execution_count": 50,
     "metadata": {},
     "output_type": "execute_result"
    }
   ],
   "source": [
    "a"
   ]
  },
  {
   "cell_type": "code",
   "execution_count": 51,
   "id": "b6c82120-f838-4a6d-ae81-34b3b39f2654",
   "metadata": {},
   "outputs": [
    {
     "data": {
      "text/plain": [
       "array([10, 11, 12, 13, 14])"
      ]
     },
     "execution_count": 51,
     "metadata": {},
     "output_type": "execute_result"
    }
   ],
   "source": [
    "10 + a"
   ]
  },
  {
   "cell_type": "code",
   "execution_count": 52,
   "id": "5f764722-357a-4e2c-8c63-fe0258d099a1",
   "metadata": {},
   "outputs": [
    {
     "data": {
      "text/plain": [
       "array([0, 2, 4, 6, 8])"
      ]
     },
     "execution_count": 52,
     "metadata": {},
     "output_type": "execute_result"
    }
   ],
   "source": [
    "a * 2"
   ]
  },
  {
   "cell_type": "code",
   "execution_count": 53,
   "id": "ba23448b-1bfc-4f2e-af73-243bbe9a696e",
   "metadata": {},
   "outputs": [
    {
     "data": {
      "text/plain": [
       "array([0. , 0.5, 1. , 1.5, 2. ])"
      ]
     },
     "execution_count": 53,
     "metadata": {},
     "output_type": "execute_result"
    }
   ],
   "source": [
    "a/2"
   ]
  },
  {
   "cell_type": "code",
   "execution_count": 54,
   "id": "ea545451-4a60-4650-b158-102a117e2309",
   "metadata": {},
   "outputs": [
    {
     "data": {
      "text/plain": [
       "array([20., 22., 24., 26., 28.])"
      ]
     },
     "execution_count": 54,
     "metadata": {},
     "output_type": "execute_result"
    }
   ],
   "source": [
    "((a + 10)/2) * 4"
   ]
  },
  {
   "cell_type": "code",
   "execution_count": 55,
   "id": "8be4792d-744d-472c-8c2c-d6a93bd374bf",
   "metadata": {},
   "outputs": [
    {
     "data": {
      "text/plain": [
       "array([False, False, False, False, False])"
      ]
     },
     "execution_count": 55,
     "metadata": {},
     "output_type": "execute_result"
    }
   ],
   "source": [
    "a > 10*a"
   ]
  },
  {
   "cell_type": "markdown",
   "id": "6cb2dbf8-b755-4624-b9e7-300a1436aa6d",
   "metadata": {},
   "source": [
    "a == a"
   ]
  },
  {
   "cell_type": "code",
   "execution_count": 57,
   "id": "33fd8671-fbe3-4721-8f71-c52c4386d5bf",
   "metadata": {},
   "outputs": [
    {
     "data": {
      "text/plain": [
       "array([ True,  True, False, False, False])"
      ]
     },
     "execution_count": 57,
     "metadata": {},
     "output_type": "execute_result"
    }
   ],
   "source": [
    "a < 2"
   ]
  },
  {
   "cell_type": "code",
   "execution_count": 59,
   "id": "d6cea9d2-ff5e-4485-bcff-61e2721b772e",
   "metadata": {},
   "outputs": [
    {
     "data": {
      "text/plain": [
       "array([0, 1, 2, 3])"
      ]
     },
     "execution_count": 59,
     "metadata": {},
     "output_type": "execute_result"
    }
   ],
   "source": [
    "a[a<4]"
   ]
  },
  {
   "cell_type": "markdown",
   "id": "f3335679-662a-43e8-a4f0-f69777a7c6a4",
   "metadata": {},
   "source": [
    "# Linear Algebra Refresher"
   ]
  },
  {
   "cell_type": "markdown",
   "id": "6be13ae6-8a69-4137-b4d9-2ccec73e588f",
   "metadata": {},
   "source": [
    "### Vector operation\n",
    "\n",
    "we have vector u and v below \n",
    "\n",
    "   \\begin{bmatrix}\n",
    "           2 \\\\\n",
    "           4 \\\\\n",
    "           5 \\\\\n",
    "           6 \\\\\n",
    "         \\end{bmatrix}\n",
    "\n",
    "\n",
    "\n",
    "                \n",
    "\n",
    "\n",
    "         \n"
   ]
  },
  {
   "cell_type": "markdown",
   "id": "9082710b-e46b-429f-a763-b6e1433e2658",
   "metadata": {},
   "source": [
    "Let's apply numpy in linear algebra"
   ]
  },
  {
   "cell_type": "code",
   "execution_count": 60,
   "id": "98914bb6-7901-4717-96da-b72cca6a3bcd",
   "metadata": {},
   "outputs": [],
   "source": [
    "u = np.array([2,4,5,6])\n",
    "\n",
    "v = np.array([1, 0, 0, 2])"
   ]
  },
  {
   "cell_type": "code",
   "execution_count": 62,
   "id": "dbb38d81-ccce-438e-b458-b33f1f87e55b",
   "metadata": {},
   "outputs": [
    {
     "data": {
      "text/plain": [
       "(array([2, 4, 5, 6]), array([1, 0, 0, 2]))"
      ]
     },
     "execution_count": 62,
     "metadata": {},
     "output_type": "execute_result"
    }
   ],
   "source": [
    "u, v"
   ]
  },
  {
   "cell_type": "code",
   "execution_count": 63,
   "id": "bb11be90-9791-4202-99e7-4bd918d6438d",
   "metadata": {},
   "outputs": [
    {
     "data": {
      "text/plain": [
       "array([ 4,  8, 10, 12])"
      ]
     },
     "execution_count": 63,
     "metadata": {},
     "output_type": "execute_result"
    }
   ],
   "source": [
    "# multiplication of vector with scaler\n",
    "\n",
    "2 * u"
   ]
  },
  {
   "cell_type": "code",
   "execution_count": 64,
   "id": "e7ba711a-5f79-49f1-8e39-e054bd0f3e82",
   "metadata": {},
   "outputs": [
    {
     "data": {
      "text/plain": [
       "array([3, 4, 5, 8])"
      ]
     },
     "execution_count": 64,
     "metadata": {},
     "output_type": "execute_result"
    }
   ],
   "source": [
    "# Adding two vector\n",
    "\n",
    "u + v"
   ]
  },
  {
   "cell_type": "code",
   "execution_count": 65,
   "id": "8e90be1b-0ac5-40e5-930c-ee925eca5739",
   "metadata": {},
   "outputs": [
    {
     "data": {
      "text/plain": [
       "np.int64(14)"
      ]
     },
     "execution_count": 65,
     "metadata": {},
     "output_type": "execute_result"
    }
   ],
   "source": [
    "# Dot product (Inner product)\n",
    "\n",
    "np.dot(u, v)"
   ]
  },
  {
   "cell_type": "code",
   "execution_count": 66,
   "id": "d907a03c-1e12-48c2-bf7c-6cfaa258b314",
   "metadata": {},
   "outputs": [
    {
     "data": {
      "text/plain": [
       "np.int64(14)"
      ]
     },
     "execution_count": 66,
     "metadata": {},
     "output_type": "execute_result"
    }
   ],
   "source": [
    "u.dot(v)"
   ]
  },
  {
   "cell_type": "code",
   "execution_count": 67,
   "id": "7915eb00-2d60-4f41-8392-847e5e0a4a51",
   "metadata": {},
   "outputs": [
    {
     "data": {
      "text/plain": [
       "np.int64(14)"
      ]
     },
     "execution_count": 67,
     "metadata": {},
     "output_type": "execute_result"
    }
   ],
   "source": [
    "u @ v"
   ]
  },
  {
   "cell_type": "code",
   "execution_count": null,
   "id": "f2415b40-bc0f-4e4d-b4f6-ac0cdff7b781",
   "metadata": {},
   "outputs": [],
   "source": [
    "# here is code implementation dot product\n",
    "\n",
    "def vector_vector_multiplication(u, v)"
   ]
  }
 ],
 "metadata": {
  "kernelspec": {
   "display_name": "Python 3 (ipykernel)",
   "language": "python",
   "name": "python3"
  },
  "language_info": {
   "codemirror_mode": {
    "name": "ipython",
    "version": 3
   },
   "file_extension": ".py",
   "mimetype": "text/x-python",
   "name": "python",
   "nbconvert_exporter": "python",
   "pygments_lexer": "ipython3",
   "version": "3.12.1"
  }
 },
 "nbformat": 4,
 "nbformat_minor": 5
}
